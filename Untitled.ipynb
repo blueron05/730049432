{
 "cells": [
  {
   "cell_type": "code",
   "execution_count": null,
   "id": "2676f8e2-2603-4b80-b2da-461117c88692",
   "metadata": {},
   "outputs": [],
   "source": [
    "from urllib import request, error\n",
    "#import a module with classes and functions which help opening URL's\n",
    "from bs4 import BeautifulSoup\n",
    "#A library that makes webscraping easier\n",
    "\n",
    "site = \"https://worldpopulationreview.com/country-rankings/crime-rate-by-country\"\n",
    "\n",
    "response = BeautifulSoup(request.urlopen(site),\"html.parser\")\n",
    "TAB = response.find(\"table\", class_=\"wpr-table min-w-full border-collapse\")\n",
    "\n",
    "rows = TAB.find_all(\"tr\")\n",
    "\n",
    "with open(\"Crime.csv\", \"w\") as file:\n",
    "    file.write(\".., Country, Crime index, Safety index\")\n",
    "    for row in rows:\n",
    "        cells = row.find_all(\"td\")\n",
    "        row_contents = []\n",
    "        for cell in cells:\n",
    "            row_contents.append(cell.text.strip())\n",
    "        print(row_contents)\n",
    "        file.write(\",\".join(row_contents) + \"\\n\")"
   ]
  },
  {
   "cell_type": "code",
   "execution_count": null,
   "id": "5fe564c3-485b-4d29-a019-5b08600e5915",
   "metadata": {},
   "outputs": [],
   "source": []
  }
 ],
 "metadata": {
  "kernelspec": {
   "display_name": "Python [conda env:base] *",
   "language": "python",
   "name": "conda-base-py"
  },
  "language_info": {
   "codemirror_mode": {
    "name": "ipython",
    "version": 3
   },
   "file_extension": ".py",
   "mimetype": "text/x-python",
   "name": "python",
   "nbconvert_exporter": "python",
   "pygments_lexer": "ipython3",
   "version": "3.12.7"
  }
 },
 "nbformat": 4,
 "nbformat_minor": 5
}
